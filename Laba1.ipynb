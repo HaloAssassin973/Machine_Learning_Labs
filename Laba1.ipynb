{
  "nbformat": 4,
  "nbformat_minor": 0,
  "metadata": {
    "colab": {
      "name": "Laba1.ipynb",
      "version": "0.3.2",
      "provenance": [],
      "collapsed_sections": [],
      "toc_visible": true,
      "include_colab_link": true
    },
    "kernelspec": {
      "name": "python3",
      "display_name": "Python 3"
    }
  },
  "cells": [
    {
      "cell_type": "markdown",
      "metadata": {
        "id": "view-in-github",
        "colab_type": "text"
      },
      "source": [
        "[View in Colaboratory](https://colab.research.google.com/github/HaloAssassin973/Machine_Learning_Labs/blob/master/Laba1.ipynb)"
      ]
    },
    {
      "metadata": {
        "id": "PViaQFfW73cQ",
        "colab_type": "text"
      },
      "cell_type": "markdown",
      "source": [
        "#Лабораторная работа №1\n",
        "\n",
        "В данной работе алгоритм машинного обучения классифицирует вина.\n",
        "\n",
        "Сначала импортируем необходимые нам библиотеки"
      ]
    },
    {
      "metadata": {
        "id": "_GWA7sM18lDZ",
        "colab_type": "code",
        "colab": {}
      },
      "cell_type": "code",
      "source": [
        "import numpy as np\n",
        "import pandas as pd\n",
        "import matplotlib.pyplot as plt\n",
        "import seaborn as sns\n",
        "from sklearn import neighbors, svm, datasets\n",
        "from sklearn.model_selection import train_test_split, cross_val_score\n",
        "from sklearn.metrics import classification_report, roc_curve, precision_recall_curve\n",
        "from matplotlib.pylab import rc, plot"
      ],
      "execution_count": 0,
      "outputs": []
    },
    {
      "metadata": {
        "id": "p9XJ8Xq58pSB",
        "colab_type": "text"
      },
      "cell_type": "markdown",
      "source": [
        "Теперь загрузим датасет и выделим общую инормацию и target - то что будем предсказывать"
      ]
    },
    {
      "metadata": {
        "id": "HSK9-vJA9Rgt",
        "colab_type": "code",
        "colab": {}
      },
      "cell_type": "code",
      "source": [
        "wine = datasets.load_wine()\n",
        "X = wine.data\n",
        "y = wine.target"
      ],
      "execution_count": 0,
      "outputs": []
    },
    {
      "metadata": {
        "id": "9j5hXMKo9U_t",
        "colab_type": "text"
      },
      "cell_type": "markdown",
      "source": [
        "Разобьем наш сет на тренировочный и на тестовый в соотношении 70% на 30%"
      ]
    },
    {
      "metadata": {
        "id": "9fKp43ByCRV5",
        "colab_type": "code",
        "colab": {}
      },
      "cell_type": "code",
      "source": [
        "X_train, X_test, y_train, y_test = train_test_split(X, y, test_size=0.3)"
      ],
      "execution_count": 0,
      "outputs": []
    },
    {
      "metadata": {
        "id": "mGredKe_CWyQ",
        "colab_type": "text"
      },
      "cell_type": "markdown",
      "source": [
        "Теперь создадим модель классификатора основанного на методе ближайшего соседа и обучим ее. В данной модели можно установить два типа весовых коэффициентов \"*uniform*\" и \"*distance*\".\n",
        "\n",
        "> Uniform - присваивает однородные весовые коэффициенты каждому соседу.\n",
        "\n",
        "> Distance - назначает весовые коэффициенты, пропорциональные обратной величине расстояния от точки запроса.\n",
        "\n"
      ]
    },
    {
      "metadata": {
        "id": "cCZDP7LuC2DQ",
        "colab_type": "code",
        "colab": {
          "base_uri": "https://localhost:8080/",
          "height": 187
        },
        "outputId": "5b77b642-b0cd-4593-8316-89f8754c31e6"
      },
      "cell_type": "code",
      "source": [
        "n_neighbors = 22 #количество соседей\n",
        "weights = \"uniform\"\n",
        "\n",
        "\n",
        "knn = neighbors.KNeighborsClassifier(n_neighbors, weights) #создание модели\n",
        "knn.fit(X_train, y_train) #обучение модели\n",
        "y_knn = knn.predict(X_test)\n",
        "y_knn = np.around(y_knn, decimals = 0).astype(np.int64)\n",
        "\n",
        "scores = cross_val_score(knn, X_test, y_test) #кросс-валидация\n",
        "    \n",
        "#Выводы результатов и метрик\n",
        "print(\"Weights = %s\" % (weights))\n",
        "print(\"Accuracy: %0.2f%% (+/- %0.2f%%)\" % (scores.mean() * 100, scores.std() * 2 * 100))\n",
        "print(classification_report(y_test, y_knn, target_names = ['class 0', 'class 1', 'class 2']))"
      ],
      "execution_count": 5,
      "outputs": [
        {
          "output_type": "stream",
          "text": [
            "Weights = uniform\n",
            "Accuracy: 57.73% (+/- 14.94%)\n",
            "             precision    recall  f1-score   support\n",
            "\n",
            "    class 0       0.79      0.75      0.77        20\n",
            "    class 1       0.55      0.69      0.61        16\n",
            "    class 2       0.40      0.33      0.36        18\n",
            "\n",
            "avg / total       0.59      0.59      0.59        54\n",
            "\n"
          ],
          "name": "stdout"
        }
      ]
    },
    {
      "metadata": {
        "id": "dekKdMzkGqje",
        "colab_type": "text"
      },
      "cell_type": "markdown",
      "source": [
        "Метрики которые используются для анализа: Precision, Recall, F1-score.\n",
        "\n",
        "> Precision - точность - это интуитивная способность классификатора не помечать образец, являющийся положительным, который является отрицательным.\n",
        "\n",
        "> Recall - полнота - это интуитивная способность классификатора найти все положительные образцы.\n",
        "\n",
        "> F-мера - можно интерпретировать как средневзвешенное значение точности и полноты.\n",
        "\n",
        "\n"
      ]
    },
    {
      "metadata": {
        "id": "Lbc1rSJnWWI1",
        "colab_type": "text"
      },
      "cell_type": "markdown",
      "source": [
        "Теперь посторим график называемый ROC-кривая (Receiver Operating Characteristic curve). Данная кривая представляет из себя линию от (0,0) до (1,1) в координатах True Positive Rate (TPR) и False Positive Rate (FPR). TPR нам уже известна, это полнота, а FPR показывает, какую долю из объектов negative класса алгоритм предсказал неверно. В идеальном случае, когда классификатор не делает ошибок (FPR = 0, TPR = 1) мы получим площадь под кривой, равную единице. Площадь под кривой в данном случае показывает качество алгоритма (больше — лучше), кроме этого, важной является крутизна самой кривой — мы хотим максимизировать TPR, минимизируя FPR, а значит, наша кривая в идеале должна стремиться к точке (0,1)."
      ]
    },
    {
      "metadata": {
        "id": "pVyYmma-LMit",
        "colab_type": "code",
        "colab": {
          "base_uri": "https://localhost:8080/",
          "height": 525
        },
        "outputId": "413d3deb-1770-4ae5-f1d6-b8f338b9c32f"
      },
      "cell_type": "code",
      "source": [
        "sns.set(font_scale=1.5)\n",
        "sns.set_color_codes(\"muted\")\n",
        "\n",
        "plt.figure(figsize=(10, 8))\n",
        "fpr, tpr, thresholds = roc_curve(y_test, knn.predict_proba(X_test)[:,1], pos_label=1)\n",
        "lw = 2\n",
        "plt.plot(fpr, tpr, lw=lw, label='ROC curve ')\n",
        "plt.xlim([0.0, 1.0])\n",
        "plt.ylim([0.0, 1.05])\n",
        "plt.xlabel('False Positive Rate')\n",
        "plt.ylabel('True Positive Rate')\n",
        "plt.title('ROC curve')\n",
        "plt.savefig(\"ROC.png\")\n",
        "plt.show()"
      ],
      "execution_count": 38,
      "outputs": [
        {
          "output_type": "display_data",
          "data": {
            "image/png": "[encoded data removed]",
            "text/plain": [
              "<matplotlib.figure.Figure at 0x7fcd11e85e80>"
            ]
          },
          "metadata": {
            "tags": []
          }
        }
      ]
    },
    {
      "metadata": {
        "id": "LahUoo7rOwDq",
        "colab_type": "text"
      },
      "cell_type": "markdown",
      "source": [
        "Вывод: наш классификатор работает и имеет точность около 75%"
      ]
    },
    {
      "metadata": {
        "id": "mOZTUW2y0r9H",
        "colab_type": "text"
      },
      "cell_type": "markdown",
      "source": [
        "Анализ гипер параметров модели"
      ]
    },
    {
      "metadata": {
        "id": "Xe9WZKioifMI",
        "colab_type": "code",
        "colab": {
          "base_uri": "https://localhost:8080/",
          "height": 51
        },
        "outputId": "e14ab42f-9dcb-4932-d244-2666b3a93902"
      },
      "cell_type": "code",
      "source": [
        "from sklearn.model_selection import RandomizedSearchCV\n",
        "\n",
        "params = {\"n_neighbors\": np.arange(1, 30),\n",
        "          \"weights\": [\"uniform\", \"distance\"]}\n",
        "\n",
        "rsearch = RandomizedSearchCV(estimator = neighbors.KNeighborsClassifier(),\n",
        "                             param_distributions = params,\n",
        "                             n_iter = 58)\n",
        "rsearch.fit(X_train, y_train)\n",
        "print(rsearch.best_score_)\n",
        "print(rsearch.best_params_)"
      ],
      "execution_count": 48,
      "outputs": [
        {
          "output_type": "stream",
          "text": [
            "0.7661290322580645\n",
            "{'weights': 'uniform', 'n_neighbors': 22}\n"
          ],
          "name": "stdout"
        }
      ]
    }
  ]
}