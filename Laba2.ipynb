{
  "nbformat": 4,
  "nbformat_minor": 0,
  "metadata": {
    "colab": {
      "name": "Laba2.ipynb",
      "version": "0.3.2",
      "provenance": [],
      "collapsed_sections": []
    },
    "kernelspec": {
      "name": "python3",
      "display_name": "Python 3"
    }
  },
  "cells": [
    {
      "metadata": {
        "id": "C9Lrc5xzBASQ",
        "colab_type": "text"
      },
      "cell_type": "markdown",
      "source": [
        "**Лабораторная работа №2**\n",
        "\n",
        "**Задача:** *провести визуальный анализ данных*\n",
        "\n",
        "Импортируем нужные нам библиотеки, скачаем данные и разделим их на тестовые и тренировочные"
      ]
    },
    {
      "metadata": {
        "id": "jby2VS-hBFjw",
        "colab_type": "code",
        "colab": {}
      },
      "cell_type": "code",
      "source": [
        "import numpy as np\n",
        "import pandas as pd\n",
        "import matplotlib.pyplot as plt\n",
        "import seaborn as sns\n",
        "from sklearn import datasets\n",
        "from sklearn.model_selection import train_test_split, cross_val_score\n",
        "from sklearn.metrics import classification_report\n",
        "from sklearn.preprocessing import MinMaxScaler\n",
        "from sklearn.neighbors import KNeighborsClassifier\n",
        "\n",
        "\n",
        "data = pd.read_csv('https://archive.ics.uci.edu/ml/machine-learning-databases/wine/wine.data', names=[\"Class\",\"Alcohol\",\"Malic acid\",\"Ash\",\"Alcalinity of ash\",\"Magnesium\",\"Total phenols\",\"Flavanoids\",\"Nonflavanoid phenols\",\"Proanthocyanins\",\"Color intensity\",\"Hue\",\"OD280/OD315 of diluted wines\",\"Proline\"])\n",
        "data.info()\n",
        "\n",
        "X = data[data.columns[1:]]\n",
        "y = data['Class']\n",
        "X_train, X_test, y_train, y_test = train_test_split(X, y, stratify=y)\n"
      ],
      "execution_count": 0,
      "outputs": []
    },
    {
      "metadata": {
        "id": "VnrnOQdgEUtU",
        "colab_type": "text"
      },
      "cell_type": "markdown",
      "source": [
        "Проверим какие признаки имееют наибольшую корреляцию с целевой переменной"
      ]
    },
    {
      "metadata": {
        "id": "oPxcOYbLEuH4",
        "colab_type": "code",
        "colab": {}
      },
      "cell_type": "code",
      "source": [
        "correlations_data = data.corr()['Class'].sort_values()\n",
        "print(correlations_data)"
      ],
      "execution_count": 0,
      "outputs": []
    },
    {
      "metadata": {
        "id": "FyOE9JtPFXMA",
        "colab_type": "text"
      },
      "cell_type": "markdown",
      "source": [
        "Отсечем признаки которые имеют коэффициент корреляции меньше, чем 0.6"
      ]
    },
    {
      "metadata": {
        "id": "uFvMgAf-FinQ",
        "colab_type": "code",
        "colab": {}
      },
      "cell_type": "code",
      "source": [
        "data = data.drop(['Proanthocyanins', 'Alcohol', 'Magnesium', 'Ash', 'Color intensity', 'Malic acid', 'Nonflavanoid phenols', 'Alcalinity of ash'], axis='columns')"
      ],
      "execution_count": 0,
      "outputs": []
    },
    {
      "metadata": {
        "id": "CjIAQglABo4s",
        "colab_type": "text"
      },
      "cell_type": "markdown",
      "source": [
        "Проведем визуальный анализ наших данных"
      ]
    },
    {
      "metadata": {
        "id": "IHc92R9VEWWQ",
        "colab_type": "code",
        "colab": {}
      },
      "cell_type": "code",
      "source": [
        "corr = data.corr().abs()\n",
        "sns.set(rc={'figure.figsize':(12, 14)})\n",
        "sns.heatmap(corr, \n",
        "            xticklabels=corr.columns.values,\n",
        "            yticklabels=corr.columns.values)"
      ],
      "execution_count": 0,
      "outputs": []
    },
    {
      "metadata": {
        "id": "5b6EZw8aBn7w",
        "colab_type": "code",
        "colab": {}
      },
      "cell_type": "code",
      "source": [
        "df_for_pairgrid = X_train[[\"Total phenols\",\"Flavanoids\",\"Hue\",\"OD280/OD315 of diluted wines\",\"Proline\"]]\n",
        "df_for_pairgrid['Class'] = y_train\n",
        "\n",
        "sns.PairGrid(df_for_pairgrid, hue='Class').map(plt.scatter)"
      ],
      "execution_count": 0,
      "outputs": []
    },
    {
      "metadata": {
        "id": "U49OCa-MG2HA",
        "colab_type": "text"
      },
      "cell_type": "markdown",
      "source": [
        "Из этих двух графиков можно сделать вывод, что теперь у нас остались признаки которые имееют определяющие значение в выборе класса."
      ]
    },
    {
      "metadata": {
        "id": "br-EeOpZI8gk",
        "colab_type": "text"
      },
      "cell_type": "markdown",
      "source": [
        "**Задача:** *посчитать \"руками\" (не используя sklearn.metrics) accuracy, precision, recall и f1 для ответов, полученных на предыдущей лабе.*\n",
        "\n",
        "Загружаем данные предыдущей лабы"
      ]
    },
    {
      "metadata": {
        "id": "8USjsTv_JH3I",
        "colab_type": "code",
        "colab": {}
      },
      "cell_type": "code",
      "source": [
        "wine = datasets.load_wine()\n",
        "X = wine.data\n",
        "y = wine.target\n",
        "\n",
        "X_train, X_test, y_train, y_test = train_test_split(X, y, test_size=0.3)\n",
        "\n",
        "knn = KNeighborsClassifier() #создание модели\n",
        "knn.fit(X_train, y_train) #обучение модели\n",
        "y_knn = knn.predict(X_test)\n",
        "y_knn = np.around(y_knn, decimals = 0).astype(np.int64)"
      ],
      "execution_count": 0,
      "outputs": []
    },
    {
      "metadata": {
        "id": "_Jh5XiTAcSsU",
        "colab_type": "text"
      },
      "cell_type": "markdown",
      "source": [
        "Считаем метрики"
      ]
    },
    {
      "metadata": {
        "id": "bNEmQvW4cd8o",
        "colab_type": "code",
        "colab": {}
      },
      "cell_type": "code",
      "source": [
        "#Все относительно класса 0\n",
        "TP = 0\n",
        "FP = 0\n",
        "FN = 0\n",
        "TN = 0\n",
        "\n",
        "for i in range(len(y_test)):\n",
        "  if (y_test[i] == y_knn[i] == 0):\n",
        "    TP += 1\n",
        "  elif (y_test[i] != 0 and y_knn[i] == 0):\n",
        "    FP += 1    \n",
        "  elif (y_test[i] == 0 and y_knn[i] != 0):\n",
        "    FN += 1\n",
        "  else:\n",
        "    TN += 1    \n",
        "\n",
        "accuracy = (TP + TN)/(TP + TN + FP + FN)\n",
        "precision = (TP)/(TP + FP)\n",
        "recall = (TP)/(TP + FN)\n",
        "f1 = (2 * precision * recall)/(precision + recall)\n",
        "\n",
        "print(f\"True Positive: {TP}\") \n",
        "print(f\"False Positive: {FP}\")\n",
        "print(f\"False Negative: {FN}\")\n",
        "print(f\"True Negative: {TN}\\n\")\n",
        "print(f\"Accuracy: {accuracy}\")\n",
        "print(f\"Precision: {precision}\")\n",
        "print(f\"Recall: {recall}\")\n",
        "print(f\"F1: {f1}\")"
      ],
      "execution_count": 0,
      "outputs": []
    },
    {
      "metadata": {
        "id": "CFTYi5MvcqFM",
        "colab_type": "text"
      },
      "cell_type": "markdown",
      "source": [
        "И проверяем, что насчитал нам sklearn"
      ]
    },
    {
      "metadata": {
        "id": "IChHPW2Icm-w",
        "colab_type": "code",
        "colab": {}
      },
      "cell_type": "code",
      "source": [
        "print(classification_report(y_test, y_knn, target_names = ['class 0', 'class 1', 'class 2']))"
      ],
      "execution_count": 0,
      "outputs": []
    },
    {
      "metadata": {
        "id": "yBilcWvmdfjE",
        "colab_type": "text"
      },
      "cell_type": "markdown",
      "source": [
        "**Задача:** *выбрать и обосновать метрику качества. Попробовать несколько методов машинного обучения из sklearn, посмотреть, какой метод лучше всего подойдет в контексте выбранной метрики (пока без подбора гиперпараметров). Оптимизировать KNN в соответствии с метрикой*"
      ]
    },
    {
      "metadata": {
        "id": "W25drDqgjiog",
        "colab_type": "text"
      },
      "cell_type": "markdown",
      "source": [
        "Выберем метрику precision. Нам важно, чтобы метод при внесении новых данных мог с максимальной точность определить, что за вино нам представлено. "
      ]
    },
    {
      "metadata": {
        "id": "4QtJ7-HUdob0",
        "colab_type": "code",
        "colab": {}
      },
      "cell_type": "code",
      "source": [
        "from sklearn.tree import DecisionTreeClassifier\n",
        "from sklearn.linear_model import SGDClassifier\n",
        "from sklearn.svm import SVC\n",
        "from sklearn.naive_bayes import GaussianNB\n",
        "from sklearn.metrics import precision_score, recall_score, f1_score\n",
        "\n",
        "average = 'micro'\n",
        "for clf in [DecisionTreeClassifier(), SGDClassifier(), SVC(), GaussianNB(), KNeighborsClassifier()]:\n",
        "    print(f\"{clf.__class__.__name__}\\nPrecision: {precision_score(y_test, clf.fit(X_train, y_train).predict(X_test), average=average)}\\nRecall: {recall_score(y_test, clf.fit(X_train, y_train).predict(X_test), average=average)}\\nF1: {f1_score(y_test, clf.fit(X_train, y_train).predict(X_test), average=average)}\\n\")"
      ],
      "execution_count": 0,
      "outputs": []
    },
    {
      "metadata": {
        "id": "R98eybuvogW4",
        "colab_type": "text"
      },
      "cell_type": "markdown",
      "source": [
        "Из этого маленького теста видно, что нам подходит GaussianNB\n",
        "\n",
        "Теперь оптимизируем knn в соответсвии с выбранной метрикой"
      ]
    },
    {
      "metadata": {
        "id": "RVmfuzm9fih8",
        "colab_type": "code",
        "colab": {}
      },
      "cell_type": "code",
      "source": [
        "from sklearn.model_selection import RandomizedSearchCV\n",
        "\n",
        "params = {\"n_neighbors\": np.arange(1, 81),\n",
        "          \"weights\": [\"uniform\", \"distance\"],\n",
        "          \"leaf_size\": np.arange(1, 100)}\n",
        "\n",
        "rsearch = RandomizedSearchCV(estimator = KNeighborsClassifier(),\n",
        "                             param_distributions = params,\n",
        "                             scoring = 'precision_micro',\n",
        "                             n_iter = 10)\n",
        "rsearch.fit(X_train, y_train)\n",
        "ry_knn = rsearch.predict(X_test)\n",
        "ry_knn = np.around(ry_knn, decimals = 0).astype(np.int64)\n",
        "\n",
        "print(f\"Precision: {rsearch.best_score_}\")\n",
        "print(f\"Best params: {rsearch.best_params_}\")\n",
        "\n"
      ],
      "execution_count": 0,
      "outputs": []
    },
    {
      "metadata": {
        "id": "v-5QE6QQ5pmA",
        "colab_type": "text"
      },
      "cell_type": "markdown",
      "source": [
        "**Задача:** *взять любой вещественный признак (не бинарный) из своего набора данных, найти максимум значения разобранными методами оптимизации, сравнить с фактическим максимумом*"
      ]
    },
    {
      "metadata": {
        "id": "r8RSnMCApGlc",
        "colab_type": "code",
        "colab": {}
      },
      "cell_type": "code",
      "source": [
        "from scipy.optimize import minimize\n",
        "import matplotlib.pyplot as plt\n",
        "import numpy as np\n",
        "import pandas as pd\n",
        "from scipy.optimize import differential_evolution as diff\n",
        "\n",
        "data = pd.read_csv('https://archive.ics.uci.edu/ml/machine-learning-databases/wine/wine.data', names=[\"Class\",\"Alcohol\",\"Malic acid\",\"Ash\",\"Alcalinity of ash\",\"Magnesium\",\"Total phenols\",\"Flavanoids\",\"Nonflavanoid phenols\",\"Proanthocyanins\",\"Color intensity\",\"Hue\",\"OD280/OD315 of diluted wines\",\"Proline\"])\n",
        "arr = np.array(data['Total phenols'])\n",
        "\n",
        "\n",
        "def f(x, *args):\n",
        "  return arr[int(x)]\n",
        "\n",
        "\n",
        "x = np.arange(0, 178)\n",
        "y = np.fromiter(map(f, x), dtype = float)\n",
        "\n",
        "\n",
        "plt.plot(x, y)\n",
        "diff(f, [(0, 178)], strategy = 'best1exp', disp = True)"
      ],
      "execution_count": 0,
      "outputs": []
    },
    {
      "metadata": {
        "id": "r01E406F356w",
        "colab_type": "code",
        "colab": {}
      },
      "cell_type": "code",
      "source": [
        "print(f'Минимальный элемент: {arr[np.argmin(arr)]}')\n",
        "print(f'Максимальный элемент: {arr[np.argmax(arr)]}')"
      ],
      "execution_count": 0,
      "outputs": []
    }
  ]
}