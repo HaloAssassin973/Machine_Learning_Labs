{
  "nbformat": 4,
  "nbformat_minor": 0,
  "metadata": {
    "colab": {
      "name": "Laba3.ipynb",
      "version": "0.3.2",
      "provenance": [],
      "collapsed_sections": []
    },
    "kernelspec": {
      "name": "python3",
      "display_name": "Python 3"
    }
  },
  "cells": [
    {
      "metadata": {
        "id": "5TC73OP-NfNA",
        "colab_type": "text"
      },
      "cell_type": "markdown",
      "source": [
        "**Лабораторная работа №3**\n",
        "\n",
        "***Задание***: обучить линейную или логистическую регрессию на своих данных, подобрать параметры."
      ]
    },
    {
      "metadata": {
        "id": "IdpC3jgHmQvg",
        "colab_type": "code",
        "outputId": "03f67fed-da71-4876-b8de-52b46d3dc937",
        "colab": {
          "base_uri": "https://localhost:8080/",
          "height": 366
        }
      },
      "cell_type": "code",
      "source": [
        "import numpy as np\n",
        "import pandas as pd\n",
        "import matplotlib.pyplot as plt\n",
        "import seaborn as sns\n",
        "from sklearn.metrics import explained_variance_score\n",
        "from sklearn.preprocessing import MinMaxScaler\n",
        "from sklearn.linear_model import LinearRegression, LogisticRegression\n",
        "from sklearn.model_selection import train_test_split, cross_val_score, KFold\n",
        "\n",
        "\n",
        "data = pd.read_csv('https://archive.ics.uci.edu/ml/machine-learning-databases/housing/housing.data', sep='\\s+', names=[\"CRIM\",\"ZN\",\"INDUS\",\"CHAS\",\"NOX\",\"RM\",\"AGE\",\"DIS\",\"RAD\",\"TAX\",\"PTRATIO\",\"B\",\"LSTAT\",\"MEDV\"])\n",
        "data.info()\n",
        "\n",
        "X = data[data.columns[:-1]]\n",
        "y = data['MEDV']\n",
        "X_train, X_test, y_train, y_test = train_test_split(X, y, random_state=10)"
      ],
      "execution_count": 39,
      "outputs": [
        {
          "output_type": "stream",
          "text": [
            "<class 'pandas.core.frame.DataFrame'>\n",
            "RangeIndex: 506 entries, 0 to 505\n",
            "Data columns (total 14 columns):\n",
            "CRIM       506 non-null float64\n",
            "ZN         506 non-null float64\n",
            "INDUS      506 non-null float64\n",
            "CHAS       506 non-null int64\n",
            "NOX        506 non-null float64\n",
            "RM         506 non-null float64\n",
            "AGE        506 non-null float64\n",
            "DIS        506 non-null float64\n",
            "RAD        506 non-null int64\n",
            "TAX        506 non-null float64\n",
            "PTRATIO    506 non-null float64\n",
            "B          506 non-null float64\n",
            "LSTAT      506 non-null float64\n",
            "MEDV       506 non-null float64\n",
            "dtypes: float64(12), int64(2)\n",
            "memory usage: 55.4 KB\n"
          ],
          "name": "stdout"
        }
      ]
    },
    {
      "metadata": {
        "id": "WTXNNkBSOczM",
        "colab_type": "text"
      },
      "cell_type": "markdown",
      "source": [
        "Логистическая регрессия"
      ]
    },
    {
      "metadata": {
        "id": "3h1EJMSqNvSs",
        "colab_type": "code",
        "colab": {
          "base_uri": "https://localhost:8080/",
          "height": 274
        },
        "outputId": "a8fffd5f-800f-4571-e489-de2c1217dddb"
      },
      "cell_type": "code",
      "source": [
        "kfold = KFold(n_splits=6, shuffle=True, random_state=10) # создаем генератор разбиений\n",
        "accuracy = []\n",
        "C_list = [10**-5, 10**-4, 10**-3, 10**-2, 10**-1, 10**0, 10**1, 10**2, 10**3, 10**4, 10**5]\n",
        "\n",
        "for i in range(0, len(C_list)):\n",
        "    clf = LogisticRegression(C=C_list[i], random_state=10)\n",
        "    current_score = cross_val_score(clf, X_train, y_train.astype(int), cv=kfold).mean()\n",
        "    accuracy.append(current_score)\n",
        "    print('При С =', C_list[i], 'точность равна', current_score)\n",
        "max_score = 0    \n",
        "for i in range(0, len(accuracy)):\n",
        "    if max_score < accuracy[i]:\n",
        "        max_score = accuracy[i]\n",
        "        C_for_max_score = i\n",
        "print('\\n')\n",
        "print('Максимальная точность (score), равная', max_score,', получается при С, равном', C_list[C_for_max_score])"
      ],
      "execution_count": 45,
      "outputs": [
        {
          "output_type": "stream",
          "text": [
            "При С = 1e-05 точность равна 0.08176256613756613\n",
            "При С = 0.0001 точность равна 0.08440806878306878\n",
            "При С = 0.001 точность равна 0.07919973544973545\n",
            "При С = 0.01 точность равна 0.08705357142857144\n",
            "При С = 0.1 точность равна 0.07903439153439153\n",
            "При С = 1 точность равна 0.10284391534391533\n",
            "При С = 10 точность равна 0.09242724867724868\n",
            "При С = 100 точность равна 0.09511408730158728\n",
            "При С = 1000 точность равна 0.09771825396825395\n",
            "При С = 10000 точность равна 0.10825892857142856\n",
            "При С = 100000 точность равна 0.1056547619047619\n",
            "\n",
            "\n",
            "Максимальная точность (score), равная 0.10825892857142856 , получается при С, равном 10000\n"
          ],
          "name": "stdout"
        }
      ]
    },
    {
      "metadata": {
        "id": "-RNFS0zXOh1E",
        "colab_type": "code",
        "colab": {
          "base_uri": "https://localhost:8080/",
          "height": 90
        },
        "outputId": "c647db44-5c58-49ef-9bbe-f85cee6baa05"
      },
      "cell_type": "code",
      "source": [
        "clf = LogisticRegression(C=C_list[C_for_max_score], random_state=10)\n",
        "clf.fit(X_train, y_train.astype(int))\n",
        "print(clf)"
      ],
      "execution_count": 49,
      "outputs": [
        {
          "output_type": "stream",
          "text": [
            "LogisticRegression(C=10000, class_weight=None, dual=False, fit_intercept=True,\n",
            "          intercept_scaling=1, max_iter=100, multi_class='ovr', n_jobs=1,\n",
            "          penalty='l2', random_state=10, solver='liblinear', tol=0.0001,\n",
            "          verbose=0, warm_start=False)\n"
          ],
          "name": "stdout"
        }
      ]
    },
    {
      "metadata": {
        "id": "0p0Hthu9Of7M",
        "colab_type": "text"
      },
      "cell_type": "markdown",
      "source": [
        "Линейная регрессия"
      ]
    },
    {
      "metadata": {
        "id": "0_JZ19UNo8w4",
        "colab_type": "code",
        "outputId": "06247239-1d04-4434-f9cd-2eb16d759a66",
        "colab": {
          "base_uri": "https://localhost:8080/",
          "height": 90
        }
      },
      "cell_type": "code",
      "source": [
        "linReg = LinearRegression()\n",
        "linReg.fit(X_train, y_train)\n",
        "y_lin = linReg.predict(X_test)\n",
        "print(linReg.score(X_train, y_train))\n",
        "\n"
      ],
      "execution_count": 0,
      "outputs": [
        {
          "output_type": "stream",
          "text": [
            "0.7548647040119411\n"
          ],
          "name": "stdout"
        },
        {
          "output_type": "stream",
          "text": [
            "/usr/local/lib/python3.6/dist-packages/sklearn/linear_model/sag.py:326: ConvergenceWarning: The max_iter was reached which means the coef_ did not converge\n",
            "  \"the coef_ did not converge\", ConvergenceWarning)\n"
          ],
          "name": "stderr"
        },
        {
          "output_type": "stream",
          "text": [
            "0.16358839050131926\n"
          ],
          "name": "stdout"
        }
      ]
    },
    {
      "metadata": {
        "id": "QjiLCZfaKH-A",
        "colab_type": "code",
        "colab": {}
      },
      "cell_type": "code",
      "source": [
        "logReg = LogisticRegression(solver = 'saga',penalty = 'l2')\n",
        "logReg.fit(X_train, y_train.astype('int'))\n",
        "y_log = logReg.predict(X_test)\n",
        "print(logReg)"
      ],
      "execution_count": 0,
      "outputs": []
    },
    {
      "metadata": {
        "id": "yAHHCIn1O_vR",
        "colab_type": "code",
        "colab": {}
      },
      "cell_type": "code",
      "source": [
        "print(\"Качество алгоритма до нормализации:\",\n",
        "      KNeighborsClassifier(n_neighbors=2).fit(X_train, y_train).score(X_test, y_test))\n",
        "\n",
        "scaler = MinMaxScaler()\n",
        "X_train_scaled = pd.DataFrame(scaler.fit_transform(X_train, ), columns=X_train.columns)\n",
        "X_test_scaled = pd.DataFrame(scaler.transform(X_test), columns=X_test.columns)\n",
        "\n",
        "print(\"Качество алгоритма после нормализации:\",\n",
        "      KNeighborsClassifier(n_neighbors=2).fit(X_train_scaled, y_train).score(X_test_scaled, y_test))\n"
      ],
      "execution_count": 0,
      "outputs": []
    }
  ]
}